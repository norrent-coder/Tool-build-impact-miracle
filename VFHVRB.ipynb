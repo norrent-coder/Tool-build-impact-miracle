{
 "cells": [
  {
   "cell_type": "code",
   "execution_count": 1,
   "id": "8160f1a6-4bfb-40de-b8d9-a777bed5d042",
   "metadata": {},
   "outputs": [],
   "source": [
    "import pandas as pd\n",
    "import numpy as np\n",
    "import openpyxl as excel\n",
    "import sys\n",
    "\n",
    "import xml.etree.ElementTree as et\n",
    "import os\n",
    "import glob\n",
    "import shutil\n",
    "import subprocess"
   ]
  },
  {
   "cell_type": "code",
   "execution_count": 2,
   "id": "57abd4cc-4ea6-41cb-9281-c792e61c02c5",
   "metadata": {},
   "outputs": [],
   "source": [
    "#加工条件excelファイルのファイル名を定義（同一フォルダー内に置く事）\n",
    "tecsets_excelfile_name = 'VFHVRB_S.xlsx'\n",
    "\n",
    "#.xmlを出力する際のフォルダー名\n",
    "folder_name = 'VFHVRB'\n",
    "\n",
    "#.xmlをエクスポートする際のファイル名\n",
    "export_file_name = 'VFHVRB.xml'\n"
   ]
  },
  {
   "cell_type": "code",
   "execution_count": 3,
   "id": "b509a144-ff08-4ca9-a053-2de06d9d6ad7",
   "metadata": {},
   "outputs": [],
   "source": [
    "#加工条件ファイルを読み込んで結合解除\n",
    "\n",
    "file = tecsets_excelfile_name #ファイル名を定義\n",
    "src_book = excel.load_workbook(file, data_only=True) #Excelファイルを読み込み オプション:値のみ\n",
    "sheet_names = src_book.sheetnames #シートネームをリストで取得\n",
    "dst_book = excel.Workbook() #空のExcelワークブックを作成\n",
    "\n",
    "for cnt, sn in enumerate(sheet_names): #複数シートがある場合は全て実行する(今回は必要無し)\n",
    "    if cnt == 0: #初回のみ空のワークブックに直接書き込む\n",
    "        dst_sheet = dst_book.active\n",
    "        dst_sheet.title = sn\n",
    "    else:\n",
    "        dst_sheet = dst_book.create_sheet(sn) #２回目以降はシートを作成して書き込む\n",
    "\n",
    "    src_sheet = src_book[sn]\n",
    "    merged_ranges = src_sheet.merged_cells.ranges #目標シートの結合セルの左上と右下のセル番号をリストで全て取得\n",
    "\n",
    "    for row in src_sheet: \n",
    "        for cell in row:\n",
    "            dst_sheet[cell.coordinate].value = cell.value #目標シートをsrc_sheetにコピーする\n",
    "\n",
    "    for mr in merged_ranges:\n",
    "        src_val = src_sheet.cell(mr.min_row, mr.min_col).value #左上の値を取得\n",
    "        for row in range(mr.min_row, mr.max_row + 1): #列を書き込み\n",
    "            for col in range(mr.min_col, mr.max_col + 1): #行を書き込み\n",
    "                dst_sheet.cell(row, col).value = src_val\n",
    "\n",
    "dst_book.save('normalize.xlsx')"
   ]
  },
  {
   "cell_type": "code",
   "execution_count": 4,
   "id": "184945d4-1659-4024-96bd-71017ad30a28",
   "metadata": {},
   "outputs": [],
   "source": [
    "#材質リストを作成\n",
    "mat_file = 'normalize.xlsx'\n",
    "materials_record = pd.read_excel(mat_file , index_col=None , header=None)#読み込み\n",
    "materials_record = materials_record.iloc[0]#必要行のみ抽出\n",
    "materials_list = materials_record.dropna()#NaN値の除去\n",
    "materials_list = materials_list.unique()#ユニーク値の抽出"
   ]
  },
  {
   "cell_type": "code",
   "execution_count": 5,
   "id": "b5073adb-577e-4be7-a822-09c3390fd20c",
   "metadata": {
    "tags": []
   },
   "outputs": [],
   "source": [
    "#加工条件表ファイルの読み込み\n",
    "file_name = 'normalize.xlsx'\n",
    "tecsets_db = pd.read_excel(file_name , index_col=None , header=0, skiprows=[0])"
   ]
  },
  {
   "cell_type": "markdown",
   "id": "9e4a53b1-b6e6-4c43-86ac-a27eb3b47027",
   "metadata": {
    "jupyter": {
     "outputs_hidden": true
    },
    "tags": []
   },
   "source": [
    "#加工条件ファイルの確認用（分類前）\n",
    "tecsets_db"
   ]
  },
  {
   "cell_type": "code",
   "execution_count": 6,
   "id": "4fdfb7f0-916a-4a6a-8e48-5bd657c16f8a",
   "metadata": {},
   "outputs": [],
   "source": [
    "#加工条件データフレームを材質毎に分類する\n",
    "for i, j in enumerate(materials_list):#リストのカウンターとリスト内容で回す\n",
    "    if i==0:#初回のみそのまま読み込む\n",
    "        tecsets_mdb = pd.merge(tecsets_db.iloc[:,0:3],tecsets_db.loc[:,'min-1':'ae mm'], left_index=True, right_index=True)#寸法と第一材質を読み込み\n",
    "        tecsets_mdb.insert(3, '材質', j)#材質カラムを追加\n",
    "        col = tecsets_mdb.columns#オリジナルのカラム名をリストで取得\n",
    "    else:#その後は条件の後ろに\".1\"をつけて材質の境界を識別している\n",
    "        a = pd.merge(tecsets_db.iloc[:,0:3],tecsets_db.loc[:,'min-1.'+str(i):'ae mm.'+str(i)], left_index=True, right_index=True)#第二材質以降を読み込む\n",
    "        a.insert(3, '材質', j)#材質カラムを追加\n",
    "        b = a.columns#現在のカラム名を取得\n",
    "        dic = dict(zip(b, col))#オリジナルのカラム名と現在のカラム名を変更用に辞書化\n",
    "        a = a.rename(columns=dic)#カラム名をオリジナルに変更\n",
    "        tecsets_mdb=tecsets_mdb.append(a, ignore_index=True) #新しいデータフレームを下に結合    \n"
   ]
  },
  {
   "cell_type": "markdown",
   "id": "922135bc-9c4e-4ea0-9325-6c88d2d45649",
   "metadata": {
    "tags": []
   },
   "source": [
    "#加工条件ファイルの確認用（分類後）\n",
    "tecsets_mdb"
   ]
  },
  {
   "cell_type": "code",
   "execution_count": 7,
   "id": "e03d17f9-c929-4984-91c7-b3c56b40bb89",
   "metadata": {},
   "outputs": [],
   "source": [
    "#各データのデータ型を整理\n",
    "tecsets_mdb = tecsets_mdb.astype({'外径\\nDia.':'float',\\\n",
    "                                  'コーナ\\n半径\\nCorner Radius':'float',\\\n",
    "                                  '首下長\\nUnder Neck Length':'float',\\\n",
    "                                  '材質':'str',\\\n",
    "                                  'min-1':'int',\\\n",
    "                                  'mm/min':'int',\\\n",
    "                                  'ap mm':'float',\\\n",
    "                                  'ae mm':'float'})"
   ]
  },
  {
   "cell_type": "markdown",
   "id": "5cc72fd4-5a92-489a-b4a1-1fde61735a49",
   "metadata": {
    "jupyter": {
     "outputs_hidden": true
    },
    "tags": []
   },
   "source": [
    "#加工条件ファイル（完成版）\n",
    "pd.set_option('display.max_rows',None)#行制限無し\n",
    "tecsets_mdb"
   ]
  },
  {
   "cell_type": "markdown",
   "id": "29e12156-77e9-4b86-a67b-1de4261d71ff",
   "metadata": {
    "tags": []
   },
   "source": [
    "###################\n",
    "ここから形状データ編集\n",
    "###################"
   ]
  },
  {
   "cell_type": "code",
   "execution_count": 8,
   "id": "14cd483d-020c-4a61-9299-25e021e9cee7",
   "metadata": {},
   "outputs": [],
   "source": [
    "#カラムリスト\n",
    "excel_columns = ('工具名称','工具コメント','工具直径','工具全長','有効刃長','コーナーR','刃数','シャンク定義','シャンク直径','先端長さ','シャンク角度','シャンク長さ','シャンク長さ（絶対値）','ネック有無','ネック直径','テーパー工具','テーパー工具角度','中心直径','中心高さ','回転方向')\n",
    "eXcel_tecsets_colums = ('S:主軸回転速度','スピンドル回転数計算式','Vc:切削速度','FX:XY送り速度','XY送り速度計算式','FZ:Z送り速度','送り速度Z計算式','F/刃数(fz)','減速送り速度','減速送り速度計算式','クーラント','溝削り送り速度','Fz穴あけ(f)','切削幅(ae)','切削深さ(ap)','減速送り速度の最大角度','プランジ角度')"
   ]
  },
  {
   "cell_type": "code",
   "execution_count": 9,
   "id": "50af56de-8e1f-4b0c-a378-9be30389a919",
   "metadata": {
    "tags": []
   },
   "outputs": [],
   "source": [
    "#スクレイピング段階での要素リスト(リネーム用のリストと順番を合わせる)\n",
    "data_columns = ('呼び記号','DC','LF','APMX','RE','DCON','LU','DN')\n",
    "#リネーム用のリスト\n",
    "rename_columns = ('工具名称','工具直径','工具全長','有効刃長','コーナーR','シャンク直径','先端長さ','ネック直径')"
   ]
  },
  {
   "cell_type": "code",
   "execution_count": 10,
   "id": "9769cf69-3dfe-4ea1-a9ee-f2f53e5cdfc0",
   "metadata": {},
   "outputs": [],
   "source": [
    "for i in range(0,100,20):\n",
    "    url = 'http://www.mitsubishicarbide.net/webcatalog/OMB04F001BLogic.do?srs_id=10000352&mkt_rykshu=mmc&gng_rykshu=ja&ctgr_rykshu=solid_end_mills&ngs_tni=M&hskzi_ini=&inst_ybkgu=&inst_zish_mi=&row=20&startIndex='+str(i)\n",
    "    data = pd.read_html(url,encoding='UTF-8') #データを取得\n",
    "    dfa = pd.merge(data[1],data[2], left_index=True, right_index=True) #ページ内のデータフレームを結合\n",
    "    dfa = dfa[['呼び記号','図','DC','LF','APMX','RE','DCON','LU','DN']] #必要カラムのみにする。\n",
    "    if i==0: #初回のみデータフレームを転送\n",
    "        df=dfa\n",
    "    else:\n",
    "        df=df.append(dfa, ignore_index=True) #新しいデータフレームを下に結合       \n"
   ]
  },
  {
   "cell_type": "code",
   "execution_count": 11,
   "id": "d82b0926-1401-469e-824e-9106a4e3a6b7",
   "metadata": {},
   "outputs": [],
   "source": [
    "#カラム名変更用の辞書を作成\n",
    "rename_dic = dict(zip(data_columns, rename_columns)) \n",
    "#カラム名変更\n",
    "df = df.rename(columns=rename_dic)"
   ]
  },
  {
   "cell_type": "code",
   "execution_count": 12,
   "id": "930801c8-0e31-4c5d-b092-21e39ed9ab80",
   "metadata": {},
   "outputs": [],
   "source": [
    "#EXCELフォーム用にカラムを追加\n",
    "df = df.reindex(columns=excel_columns)"
   ]
  },
  {
   "cell_type": "code",
   "execution_count": 13,
   "id": "6c4c6aab-4137-462a-a7f9-f25c1410b11e",
   "metadata": {
    "tags": []
   },
   "outputs": [],
   "source": [
    "#工具名称入力\n",
    "df = df.astype({'工具コメント':'object'}) #型変換\n",
    "for i in range(0,len(df)):\n",
    "    df.iat[i,1] = 'インパクトミラクル高能率加工用制振ラジアスエンドミル'"
   ]
  },
  {
   "cell_type": "code",
   "execution_count": 14,
   "id": "33e2191d-c929-4282-a5a8-4ba5e5b8c0df",
   "metadata": {},
   "outputs": [],
   "source": [
    "#決まっている値を入力\n",
    "df['刃数'] = 4\n",
    "df['テーパー工具'] = 0\n",
    "df['中心直径'] = 0\n",
    "df['中心高さ'] = 0\n",
    "df['回転方向'] = 'clockwise'"
   ]
  },
  {
   "cell_type": "code",
   "execution_count": 15,
   "id": "5dab04c9-0f7f-4524-bec4-3584c59820b1",
   "metadata": {},
   "outputs": [],
   "source": [
    "#シャンク定義を条件に応じて値を修正\n",
    "df = df.astype({'シャンク定義':'str','工具直径':'float','シャンク直径':'float'})\n",
    "for i in range(0,len(df)):\n",
    "    if df.at[i,'工具直径'] == df.at[i,'シャンク直径']:#ストレート工具を定義\n",
    "        df.at[i,'ネック有無'] = 1\n",
    "        df.at[i,'シャンク定義'] = 'length'\n",
    "        df.at[i,'シャンク長さ'] = 0\n",
    "    elif df.at[i,'工具直径'] > df.at[i,'シャンク直径']:\n",
    "        df.at[i,'ネック有無'] = 1\n",
    "        df.at[i,'シャンク定義'] = 'length'\n",
    "        df.at[i,'シャンク長さ'] = 0\n",
    "    else:\n",
    "        df.at[i,'ネック有無'] = 1\n",
    "        df.at[i,'シャンク定義'] = 'angle'#以外はネックテーパーにする\n",
    "        df.at[i,'シャンク角度'] = 15\n"
   ]
  },
  {
   "cell_type": "code",
   "execution_count": 16,
   "id": "de69aee0-fd96-45f0-a83d-b6fe818f56c3",
   "metadata": {
    "tags": []
   },
   "outputs": [],
   "source": [
    "#各データのデータ型を整理\n",
    "df = df.astype({'ネック有無':'int8'})"
   ]
  },
  {
   "cell_type": "code",
   "execution_count": 17,
   "id": "74a8bc99-b6a0-4340-b54c-67e164195623",
   "metadata": {},
   "outputs": [],
   "source": [
    "#NaN値を空白にする\n",
    "df = df.replace(np.nan, '', regex=True)#regexオプションの意味が分からない"
   ]
  },
  {
   "cell_type": "markdown",
   "id": "323c67f7-3bca-4d7a-ba7b-9ad1c2255b48",
   "metadata": {
    "jupyter": {
     "outputs_hidden": true
    },
    "tags": []
   },
   "source": [
    "#テスト出力\n",
    "pd.set_option('display.max_rows',None)\n",
    "df"
   ]
  },
  {
   "cell_type": "markdown",
   "id": "75092467-073b-4604-9946-14417477749b",
   "metadata": {},
   "source": [
    "####################\n",
    "ここから　XML定義\n",
    "####################"
   ]
  },
  {
   "cell_type": "code",
   "execution_count": 18,
   "id": "232ef322-42b8-472c-9eca-0227951c4ed7",
   "metadata": {},
   "outputs": [],
   "source": [
    "#加工条件を材質ごとに書き込み\n",
    "def write_tecset (temp_mat,temp_tecsets):\n",
    "    tecsets = et.SubElement(tool, 'tecsets')\n",
    "    for i in temp_mat:\n",
    "        idnum = temp_tecsets.query('材質 == @i').index[0]\n",
    "        \n",
    "        tecset = et.SubElement(tecsets, 'tecset',{\"type\" : \"milling\"})\n",
    "        add_tecsets = et.SubElement(tecset,'param', attrib={'name':str(\"material\")},value=str(i))\n",
    "        add_tecsets = et.SubElement(tecset,'param', attrib={'name':str(\"cuttingMaterial\")},value=str('超硬'))\n",
    "        add_tecsets = et.SubElement(tecset,'param', attrib={'name':str(\"purpose\")},value=str('multi'))\n",
    "        add_tecsets = et.SubElement(tecset,'param', attrib={'name':str(\"lengthOfUnit\")},value=str('mm'))\n",
    "        add_tecsets = et.SubElement(tecset,'param', attrib={'name':str(\"spindleSpeed\")},value=str(temp_tecsets.at[idnum,'min-1']))\n",
    "        add_tecsets = et.SubElement(tecset,'param', attrib={'name':str(\"planeFeedrate\")},value=str(temp_tecsets.at[idnum,'mm/min']))\n",
    "        add_tecsets = et.SubElement(tecset,'param', attrib={'name':str(\"cuttingSpeed\")},value=str('0'))\n",
    "        add_tecsets = et.SubElement(tecset,'param', attrib={'name':str(\"coolants\")},value=str('1'))\n",
    "        add_tecsets = et.SubElement(tecset,'param', attrib={'name':str(\"cuttingDirection\")},value=str(\"upAndDown\"))\n",
    "        add_tecsets = et.SubElement(tecset,'param', attrib={'name':str(\"zFeedrate\")},value=str(\"0\"))\n",
    "        add_tecsets = et.SubElement(tecset,'param', attrib={'name':str(\"feedratePerEdge\")},value=str(\"0\"))\n",
    "        add_tecsets = et.SubElement(tecset,'param', attrib={'name':str(\"fullcutFeedrate\")},value=str(\"0\"))\n",
    "        add_tecsets = et.SubElement(tecset,'param', attrib={'name':str(\"drillingFeedrate\")},value=str(\"0\"))\n",
    "        add_tecsets = et.SubElement(tecset,'param', attrib={'name':str(\"cuttingWidth\")},value=str(temp_tecsets.at[idnum,'ae mm']))\n",
    "        add_tecsets = et.SubElement(tecset,'param', attrib={'name':str(\"cuttingLength\")},value=str(temp_tecsets.at[idnum,'ap mm']))\n",
    "        add_tecsets = et.SubElement(tecset,'param', attrib={'name':str(\"maxRedFeedrateAngle\")},value=str(\"0\"))\n",
    "        add_tecsets = et.SubElement(tecset,'param', attrib={'name':str(\"plungeAngle\")},value=str(\"2\"))\n",
    "        add_tecsets = et.SubElement(tecset,'param', attrib={'name':str(\"reducedFeedrate\")},value=str(\"0\"))\n",
    "        add_tecsets = et.SubElement(tecset,'param', attrib={'name':str(\"planeFeedrateFormula\")},value=str(\"\"))\n",
    "        add_tecsets = et.SubElement(tecset,'param', attrib={'name':str(\"zFeedrateFormula\")},value=str(\"f送り速度Z\"))\n",
    "        add_tecsets = et.SubElement(tecset,'param', attrib={'name':str(\"spindleSpeedFormula\")},value=str(\"\"))\n",
    "        add_tecsets = et.SubElement(tecset,'param', attrib={'name':str(\"reducedFeedrateFormula\")},value=str(\"f減速\"))"
   ]
  },
  {
   "cell_type": "code",
   "execution_count": 19,
   "id": "8240c8c3-aa9e-4648-8ac5-86e1fcd191fd",
   "metadata": {},
   "outputs": [],
   "source": [
    "#各種読み込み用のカラムリストと出力用のカラムリストを定義\n",
    "tecsets_list_all=['S:主軸回転速度','FX:XY送り速度','Vc:切削速度','クーラント','FZ:Z送り速度','減速送り速度','F/刃数(fz)','溝削り送り速度','Fz穴あけ(f)','切削幅(ae)','切削深さ(ap)','減速送り速度の最大角度','プランジ角度','XY送り速度計算式','送り速度Z計算式','スピンドル回転数計算式','減速送り速度計算式']\n",
    "tecsets_param_list=['cuttingSpeed','coolants','feedratePerEdge','fullcutFeedrate','drillingFeedrate','cuttingWidth','cuttingLength','maxRedFeedrateAngle','plungeAngle']"
   ]
  },
  {
   "cell_type": "code",
   "execution_count": 20,
   "id": "8530089c-fe21-4e32-b044-e1c8b0d9e7ba",
   "metadata": {},
   "outputs": [],
   "source": [
    "#xmlヘッダー作成\n",
    "omtdx = et.Element('omtdx', {\"version\" : \"21\" , \"srcURL\" : \"\" , \"srcGuid\" : \"\" , \"srcType\" : \"standard\" , \"files\" : \"\"})\n",
    "tree = et.ElementTree(element=omtdx)\n",
    "tools_a = et.SubElement(omtdx,'tools')"
   ]
  },
  {
   "cell_type": "code",
   "execution_count": 21,
   "id": "48447530-cbef-4b9c-9338-e721b8de3b13",
   "metadata": {},
   "outputs": [],
   "source": [
    "#xml作成用のリスト読み込み（今回はラジアス用）\n",
    "shape_param_list=['radiusMill','comment','spindleRotation','toolTotalLength','cuttingEdges','cuttingLength','toolShaftDiameter','toolShaftChamferDefMode','toolShaftChamferLength','toolShaftChamferAbsPos','toolShaftChamferAngle','toolDiameter','taperHeight','collar','tipDiameter','tapered','taperAngle','cornerRadius','coreDiameter','coreHeight']\n",
    "shape_list=['工具コメント','回転方向','工具全長','刃数','有効刃長','シャンク直径','シャンク定義','シャンク長さ','シャンク長さ（絶対値）','シャンク角度','工具直径','先端長さ','ネック有無','ネック直径','テーパー工具','テーパー工具角度','コーナーR','中心直径','中心高さ']"
   ]
  },
  {
   "cell_type": "code",
   "execution_count": 22,
   "id": "b6fee588-eef9-4d0f-8282-aaa518b273c7",
   "metadata": {},
   "outputs": [
    {
     "data": {
      "text/plain": [
       "['cuttingEdges', 'cuttingLength']"
      ]
     },
     "execution_count": 22,
     "metadata": {},
     "output_type": "execute_result"
    }
   ],
   "source": [
    "shape_param_list[4:6]"
   ]
  },
  {
   "cell_type": "code",
   "execution_count": 23,
   "id": "306f2ece-9b0e-4efa-8aba-80cc621c4ec7",
   "metadata": {},
   "outputs": [],
   "source": [
    "#工具タイプ毎のxml作成\n",
    "\n",
    "tools_b = et.SubElement(tools_a,'tools',{\"folder\" : folder_name , \"comment\" : \"\" , \"objGuid\" : \"\"})\n",
    "for i in range(len(df)):\n",
    "\n",
    "    #形状リストから行の値を取得してリスト化\n",
    "    shape_value_list=[]\n",
    "    for a in shape_list:\n",
    "        b=(df.iloc[i][a])\n",
    "        shape_value_list.append(b)\n",
    "        #print (shape_value_list)\n",
    "\n",
    "    #工具データ入力開始\n",
    "    tool = et.SubElement(tools_b, 'tool',{\"type\" : shape_param_list[0]})\n",
    "\n",
    "    #第一形状データの入力\n",
    "    tool.set(\"name\",str(df.iloc[i]['工具名称']))#単独で値を取得\n",
    "    \n",
    "    #第一形状連続入力\n",
    "    add_shape = et.SubElement(tool,'param', attrib={'name':str(shape_param_list[1])},value=str(shape_value_list[0]))\n",
    "    add_shape = et.SubElement(tool,'param', attrib={'name':str(\"objGuid\")},value=str(\"\"))\n",
    "    add_shape = et.SubElement(tool,'param', attrib={'name':str(\"cuttingMaterial\")},value=str(\"超硬\"))\n",
    "    add_shape = et.SubElement(tool,'param', attrib={'name':str(\"lengthOfUnit\")},value=str(\"mm\"))  \n",
    "    \n",
    "    \n",
    "    for (palam_name,value_name) in zip(shape_param_list[2:4],shape_value_list[1:3]):\n",
    "        add_shape = et.SubElement(tool,'param', attrib={'name':str(palam_name)},value=str(value_name))\n",
    "    \n",
    "    coupling = et.SubElement(tool, 'coupling',{\"type\" : \"unknown\" , \"location\" : \"top\"})\n",
    "    add_shape = et.SubElement(coupling,'param', attrib={'name':str(\"objGuid\")},value=str(\"\"))\n",
    "        \n",
    "    for (palam_name,value_name) in zip(shape_param_list[4:6],shape_value_list[3:5]):\n",
    "        add_shape = et.SubElement(tool,'param', attrib={'name':str(palam_name)},value=str(value_name))\n",
    "\n",
    "    \n",
    "    \n",
    "    if df.at[i,'シャンク定義'] == 'straight':\n",
    "        add_shape = et.SubElement(tool,'param', attrib={'name':'toolShaftType'},value=\"none\")\n",
    "        for (palam_name,value_name) in zip(shape_param_list[11:13],shape_value_list[10:12]):\n",
    "            add_shape = et.SubElement(tool,'param', attrib={'name':str(palam_name)},value=str(value_name))\n",
    "    else:\n",
    "        add_shape = et.SubElement(tool,'param', attrib={'name':'toolShaftType'},value=\"parametric\")\n",
    "        for (palam_name,value_name) in zip(shape_param_list[6:13],shape_value_list[5:12]):\n",
    "            add_shape = et.SubElement(tool,'param', attrib={'name':str(palam_name)},value=str(value_name))\n",
    "    \n",
    "    \n",
    "    #切削条件データの入力\n",
    "    #データ抽出 工具サイズから必要な条件を抽出\n",
    "    dia = df.at[i,'工具直径']\n",
    "    nose_r = df.at[i,'コーナーR']\n",
    "    neck = df.at[i,'先端長さ']\n",
    "\n",
    "    if not neck:\n",
    "        neck = 0\n",
    "    \n",
    "    temp_tecsets = tecsets_mdb[(tecsets_mdb['外径\\nDia.'] == dia) & (tecsets_mdb['コーナ\\n半径\\nCorner Radius'] == nose_r) & (tecsets_mdb['首下長\\nUnder Neck Length'] == neck) ]\n",
    "    temp_tecsets = temp_tecsets.reset_index(drop=True)  #再インデックス\n",
    "    temp_mat = temp_tecsets['材質']\n",
    "    \n",
    "    #加工条件入力関数呼び出し\n",
    "    write_tecset (temp_mat,temp_tecsets)    \n",
    "\n",
    "\n",
    "    #第二形状データの入力\n",
    "    for (palam_name,value_name) in zip(shape_param_list[13:],shape_value_list[12:]):\n",
    "        add_shape = et.SubElement(tool,'param', attrib={'name':str(palam_name)},value=str(value_name))\n"
   ]
  },
  {
   "cell_type": "code",
   "execution_count": 24,
   "id": "a926fe36-8b8c-45ba-8f53-97bb00378f13",
   "metadata": {},
   "outputs": [],
   "source": [
    "tree.write(export_file_name, encoding='utf-8', xml_declaration=True) #ファイル出力"
   ]
  },
  {
   "cell_type": "code",
   "execution_count": 23,
   "id": "5ec422f8-40cc-40eb-9145-11f8bab240b8",
   "metadata": {},
   "outputs": [],
   "source": [
    "tree.write(export_file_name, encoding='utf-8', xml_declaration=True) #ファイル出力"
   ]
  },
  {
   "cell_type": "code",
   "execution_count": null,
   "id": "0ace5fa4-34fc-41a5-9a77-3db68d80e430",
   "metadata": {},
   "outputs": [],
   "source": []
  }
 ],
 "metadata": {
  "kernelspec": {
   "display_name": "Python 3",
   "language": "python",
   "name": "python3"
  },
  "language_info": {
   "codemirror_mode": {
    "name": "ipython",
    "version": 3
   },
   "file_extension": ".py",
   "mimetype": "text/x-python",
   "name": "python",
   "nbconvert_exporter": "python",
   "pygments_lexer": "ipython3",
   "version": "3.8.8"
  }
 },
 "nbformat": 4,
 "nbformat_minor": 5
}
